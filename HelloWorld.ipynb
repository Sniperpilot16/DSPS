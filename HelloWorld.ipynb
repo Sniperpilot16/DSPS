{
  "nbformat": 4,
  "nbformat_minor": 0,
  "metadata": {
    "colab": {
      "name": "HelloWorld.ipynb",
      "version": "0.3.2",
      "provenance": [],
      "include_colab_link": true
    },
    "kernelspec": {
      "name": "python3",
      "display_name": "Python 3"
    }
  },
  "cells": [
    {
      "cell_type": "markdown",
      "metadata": {
        "id": "view-in-github",
        "colab_type": "text"
      },
      "source": [
        "<a href=\"https://colab.research.google.com/github/fedhere/DSPS/blob/master/HelloWorld.ipynb\" target=\"_parent\"><img src=\"https://colab.research.google.com/assets/colab-badge.svg\" alt=\"Open In Colab\"/></a>"
      ]
    },
    {
      "cell_type": "markdown",
      "metadata": {
        "id": "toLZyw-xGJbQ",
        "colab_type": "text"
      },
      "source": [
        "This is a notebook that prints Hello World. Notebooks are mixes of code and text. We can write code, describe the code purpose, and display the results as outputs or plots within the notebook itself. Thus notebooks are excellent for prototyping, writing tutorials and reproducible code, and ... delivering homework. \n"
      ]
    },
    {
      "cell_type": "code",
      "metadata": {
        "id": "yikB1vXmF9Rr",
        "colab_type": "code",
        "colab": {
          "base_uri": "https://localhost:8080/",
          "height": 34
        },
        "outputId": "5147d1c4-5725-4e7c-9900-cfeae706ace3"
      },
      "source": [
        "print(\"Hello World\")"
      ],
      "execution_count": 2,
      "outputs": [
        {
          "output_type": "stream",
          "text": [
            "Hello World\n"
          ],
          "name": "stdout"
        }
      ]
    }
  ]
}